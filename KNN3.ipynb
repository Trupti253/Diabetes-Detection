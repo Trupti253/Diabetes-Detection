{
 "cells": [
  {
   "cell_type": "code",
   "execution_count": null,
   "id": "343d2ebc",
   "metadata": {},
   "outputs": [],
   "source": [
    "import numpy as np\n",
    "import pandas as pd\n",
    "import matplotlib.pyplot as plt"
   ]
  },
  {
   "cell_type": "code",
   "execution_count": null,
   "id": "38c461e8",
   "metadata": {},
   "outputs": [],
   "source": [
    "from sklearn.model_selection import train_test_split\n",
    "from sklearn.preprocessing import StandardScaler\n",
    "from sklearn.metrics import accuracy_score"
   ]
  },
  {
   "cell_type": "code",
   "execution_count": null,
   "id": "99f4c7f7",
   "metadata": {},
   "outputs": [],
   "source": [
    "data = pd.read_csv(\"diabetes_prediction_new.csv\") "
   ]
  },
  {
   "cell_type": "code",
   "execution_count": null,
   "id": "8eae7dda",
   "metadata": {},
   "outputs": [],
   "source": [
    "data.head(10)"
   ]
  },
  {
   "cell_type": "code",
   "execution_count": null,
   "id": "f55287e3",
   "metadata": {},
   "outputs": [],
   "source": [
    "data.isnull()"
   ]
  },
  {
   "cell_type": "code",
   "execution_count": null,
   "id": "dc330f48",
   "metadata": {},
   "outputs": [],
   "source": [
    "X = data.drop(columns=[\"gender\",\"diabetes\"])\n",
    "y = data[\"diabetes\"]"
   ]
  },
  {
   "cell_type": "code",
   "execution_count": null,
   "id": "1d437212",
   "metadata": {},
   "outputs": [],
   "source": [
    "X.head()"
   ]
  },
  {
   "cell_type": "code",
   "execution_count": null,
   "id": "8a8cc652",
   "metadata": {},
   "outputs": [],
   "source": [
    "y.head()"
   ]
  },
  {
   "cell_type": "code",
   "execution_count": null,
   "id": "9abe61e6",
   "metadata": {},
   "outputs": [],
   "source": [
    "X.replace({'not current': 2, 'never': 3, 'ever':4, 'former':1, 'No Info':0 },inplace=True)"
   ]
  },
  {
   "cell_type": "code",
   "execution_count": null,
   "id": "96f535a1",
   "metadata": {},
   "outputs": [],
   "source": [
    "X.head()"
   ]
  },
  {
   "cell_type": "code",
   "execution_count": 25,
   "id": "afc3643b",
   "metadata": {},
   "outputs": [],
   "source": [
    "X_train, X_test, y_train, y_test = train_test_split(X, y, test_size=0.2, random_state=42)"
   ]
  },
  {
   "cell_type": "code",
   "execution_count": 26,
   "id": "cae7c459",
   "metadata": {},
   "outputs": [],
   "source": [
    "scaler = StandardScaler()\n",
    "X_train = scaler.fit_transform(X_train)\n",
    "X_test = scaler.transform(X_test)"
   ]
  },
  {
   "cell_type": "code",
   "execution_count": 27,
   "id": "f45847d3",
   "metadata": {},
   "outputs": [
    {
     "data": {
      "text/plain": [
       "92.13"
      ]
     },
     "execution_count": 27,
     "metadata": {},
     "output_type": "execute_result"
    }
   ],
   "source": [
    "def minkowski_distance(a, b, p=2):\n",
    "    dim = len(a)\n",
    "    distance = 0 # initial dist\n",
    "    for d in range(dim):\n",
    "        distance += abs(a[d] - b[d])**p    \n",
    "    distance = distance**(1/p)\n",
    "    \n",
    "    return distance\n",
    "minkowski_distance(a=X.iloc[0], b=X.iloc[1], p=1) #Manhattan dist"
   ]
  },
  {
   "cell_type": "code",
   "execution_count": 28,
   "id": "bf9ce4e3",
   "metadata": {},
   "outputs": [
    {
     "data": {
      "text/html": [
       "<div>\n",
       "<style scoped>\n",
       "    .dataframe tbody tr th:only-of-type {\n",
       "        vertical-align: middle;\n",
       "    }\n",
       "\n",
       "    .dataframe tbody tr th {\n",
       "        vertical-align: top;\n",
       "    }\n",
       "\n",
       "    .dataframe thead th {\n",
       "        text-align: right;\n",
       "    }\n",
       "</style>\n",
       "<table border=\"1\" class=\"dataframe\">\n",
       "  <thead>\n",
       "    <tr style=\"text-align: right;\">\n",
       "      <th></th>\n",
       "      <th>dist</th>\n",
       "    </tr>\n",
       "  </thead>\n",
       "  <tbody>\n",
       "    <tr>\n",
       "      <th>0</th>\n",
       "      <td>165.017624</td>\n",
       "    </tr>\n",
       "    <tr>\n",
       "      <th>1</th>\n",
       "      <td>178.855311</td>\n",
       "    </tr>\n",
       "    <tr>\n",
       "      <th>2</th>\n",
       "      <td>192.707609</td>\n",
       "    </tr>\n",
       "    <tr>\n",
       "      <th>3</th>\n",
       "      <td>188.577047</td>\n",
       "    </tr>\n",
       "    <tr>\n",
       "      <th>4</th>\n",
       "      <td>167.255193</td>\n",
       "    </tr>\n",
       "  </tbody>\n",
       "</table>\n",
       "</div>"
      ],
      "text/plain": [
       "         dist\n",
       "0  165.017624\n",
       "1  178.855311\n",
       "2  192.707609\n",
       "3  188.577047\n",
       "4  167.255193"
      ]
     },
     "execution_count": 28,
     "metadata": {},
     "output_type": "execute_result"
    }
   ],
   "source": [
    "test_pt = [148, 85, 103,71, 44]\n",
    "distances = []\n",
    "\n",
    "for i in X.index:\n",
    "    \n",
    "    distances.append(minkowski_distance(test_pt, X.iloc[i]))\n",
    "    \n",
    "df_dists = pd.DataFrame(data=distances, index=X.index, columns=['dist'])\n",
    "df_dists.head()"
   ]
  },
  {
   "cell_type": "code",
   "execution_count": 29,
   "id": "23d6b3f6",
   "metadata": {},
   "outputs": [
    {
     "data": {
      "text/html": [
       "<div>\n",
       "<style scoped>\n",
       "    .dataframe tbody tr th:only-of-type {\n",
       "        vertical-align: middle;\n",
       "    }\n",
       "\n",
       "    .dataframe tbody tr th {\n",
       "        vertical-align: top;\n",
       "    }\n",
       "\n",
       "    .dataframe thead th {\n",
       "        text-align: right;\n",
       "    }\n",
       "</style>\n",
       "<table border=\"1\" class=\"dataframe\">\n",
       "  <thead>\n",
       "    <tr style=\"text-align: right;\">\n",
       "      <th></th>\n",
       "      <th>dist</th>\n",
       "    </tr>\n",
       "  </thead>\n",
       "  <tbody>\n",
       "    <tr>\n",
       "      <th>81631</th>\n",
       "      <td>163.458137</td>\n",
       "    </tr>\n",
       "    <tr>\n",
       "      <th>73114</th>\n",
       "      <td>163.474281</td>\n",
       "    </tr>\n",
       "    <tr>\n",
       "      <th>28082</th>\n",
       "      <td>163.549533</td>\n",
       "    </tr>\n",
       "  </tbody>\n",
       "</table>\n",
       "</div>"
      ],
      "text/plain": [
       "             dist\n",
       "81631  163.458137\n",
       "73114  163.474281\n",
       "28082  163.549533"
      ]
     },
     "execution_count": 29,
     "metadata": {},
     "output_type": "execute_result"
    }
   ],
   "source": [
    "df_nn = df_dists.sort_values(by=['dist'], axis=0)[:3] #using 3 nearest neighbour\n",
    "df_nn"
   ]
  },
  {
   "cell_type": "code",
   "execution_count": 30,
   "id": "65203ccc",
   "metadata": {},
   "outputs": [
    {
     "data": {
      "text/plain": [
       "1"
      ]
     },
     "execution_count": 30,
     "metadata": {},
     "output_type": "execute_result"
    }
   ],
   "source": [
    "from collections import Counter\n",
    "counter = Counter(y[df_nn.index])\n",
    "counter.most_common()[0][0]"
   ]
  },
  {
   "cell_type": "code",
   "execution_count": null,
   "id": "413a254e",
   "metadata": {},
   "outputs": [],
   "source": [
    "def knn_predict(X_train, X_test, y_train, y_test, k, p):\n",
    "    \n",
    "    from collections import Counter\n",
    "    y_hat_test = []\n",
    "\n",
    "    for test_point in X_test:\n",
    "        distances = []\n",
    "\n",
    "        for train_point in X_train:\n",
    "            distance = minkowski_distance(test_point, train_point, p=p)\n",
    "            distances.append(distance)\n",
    "            \n",
    "        df_dists = pd.DataFrame(data=distances, columns=['dist'], \n",
    "                                index=y_train.index)\n",
    "        \n",
    "        df_nn = df_dists.sort_values(by=['dist'], axis=0)[:k]\n",
    "\n",
    "        counter = Counter(y_train[df_nn.index])\n",
    "\n",
    "        prediction = counter.most_common()[0][0]\n",
    "        \n",
    "        y_hat_test.append(prediction)\n",
    "        \n",
    "    return y_hat_test\n",
    "\n",
    "y_hat_test = knn_predict(X_train, X_test, y_train, y_test, k=3, p=1)\n",
    "\n",
    "print(y_hat_test)\n"
   ]
  },
  {
   "cell_type": "code",
   "execution_count": null,
   "id": "b7a143a8",
   "metadata": {},
   "outputs": [],
   "source": [
    "from sklearn.metrics import accuracy_score\n",
    "\n",
    "print(accuracy_score(y_test, y_hat_test))"
   ]
  },
  {
   "cell_type": "code",
   "execution_count": null,
   "id": "f568e7fc",
   "metadata": {},
   "outputs": [],
   "source": [
    "from sklearn.neighbors import KNeighborsClassifier\n",
    "\n",
    "clf = KNeighborsClassifier(n_neighbors=3, p=2)   #just to verify \n",
    "clf.fit(X_train, y_train)\n",
    "y_pred_test = clf.predict(X_test)\n",
    "\n",
    "print(f\"Sklearn KNN Accuracy: {accuracy_score(y_test, y_pred_test)}\")\n"
   ]
  },
  {
   "cell_type": "code",
   "execution_count": null,
   "id": "203f0c78",
   "metadata": {},
   "outputs": [],
   "source": [
    "accuracies = []\n",
    "\n",
    "for k in range(1,100):\n",
    "    y_hat_test = knn_predict(X_train, X_test, y_train, y_test, k, p=1)\n",
    "    accuracies.append(accuracy_score(y_test, y_hat_test))\n",
    "\n",
    "fig, ax = plt.subplots(figsize=(8,6))\n",
    "ax.plot(range(1,100), accuracies)\n",
    "ax.set_xlabel('# of Nearest Neighbors (k)')\n",
    "ax.set_ylabel('Accuracy (%)')"
   ]
  },
  {
   "cell_type": "code",
   "execution_count": null,
   "id": "d2ad5917",
   "metadata": {},
   "outputs": [],
   "source": [
    "y_test.head()"
   ]
  },
  {
   "cell_type": "code",
   "execution_count": null,
   "id": "1aef2a1d",
   "metadata": {},
   "outputs": [],
   "source": [
    "print(y_test)"
   ]
  },
  {
   "cell_type": "code",
   "execution_count": null,
   "id": "116d3323",
   "metadata": {},
   "outputs": [],
   "source": [
    "import matplotlib.pyplot as plt\n",
    "\n",
    "plt.figure(figsize=(9, 6))\n",
    "plt.scatter(X_test[:,0], y_test, color='blue', label='Actual vs. Predicted')\n",
    "plt.plot([min(y_test), max(y_test)], [min(y_test), max(y_test)], linestyle='--', color='red', linewidth=2, label='Perfect Prediction')\n",
    "plt.xlabel('Actual Values')\n",
    "plt.ylabel('Predicted Values')\n",
    "plt.title('kNN Diabetes Prediction')\n",
    "plt.legend()\n",
    "plt.show()"
   ]
  },
  {
   "cell_type": "code",
   "execution_count": null,
   "id": "95648bf1",
   "metadata": {},
   "outputs": [],
   "source": [
    "def fitness_function(params):\n",
    "    n_neighbors = int(params['n_neighbors'])\n",
    "    knn_classifier = KNeighborsClassifier(n_neighbors=n_neighbors)\n",
    "    knn_classifier.fit(X_train, y_train)\n",
    "    y_pred = knn_classifier.predict(X_test)\n",
    "    return -accuracy_score(y_test, y_pred) "
   ]
  },
  {
   "cell_type": "code",
   "execution_count": null,
   "id": "bc7f6c38",
   "metadata": {},
   "outputs": [],
   "source": [
    "n_neighbors_range = (1, 30) \n",
    "\n",
    "def initialize_population(population_size):\n",
    "    return [random.randint(n_neighbors_range[0], n_neighbors_range[1]) for _ in range(population_size)]\n"
   ]
  },
  {
   "cell_type": "code",
   "execution_count": null,
   "id": "fcee30bb",
   "metadata": {},
   "outputs": [],
   "source": [
    "def OOA(SearchAgents, Max_iterations, lowerbound, upperbound, fitness):\n",
    "    X = np.random.randint(lowerbound, upperbound + 1, size=(SearchAgents,))\n",
    "    fit = np.array([fitness({'n_neighbors': X[i]}) for i in range(SearchAgents)])\n",
    "    best_so_far = np.zeros(Max_iterations)\n",
    "    \n",
    "    for t in range(1, Max_iterations + 1):\n",
    "        Fbest, blocation = min(fit), np.argmin(fit)\n",
    "\n",
    "        if t == 1 or Fbest < best_so_far[t-2]:\n",
    "            xbest, fbest = X[blocation], Fbest\n",
    "\n",
    "        for i in range(SearchAgents):\n",
    "            fish_position = np.where(fit < fit[i])[0]\n",
    "\n",
    "            if fish_position.size == 0:\n",
    "                selected_fish = xbest\n",
    "            else:\n",
    "                k = np.random.randint(fish_position.size)\n",
    "                selected_fish = X[fish_position[k]]\n",
    "\n",
    "            I = round(1 + np.random.rand())\n",
    "            X_new_P1 = X[i] + np.random.rand() * (selected_fish - I * X[i])\n",
    "            X_new_P1 = np.maximum(X_new_P1, lowerbound)\n",
    "            X_new_P1 = np.minimum(X_new_P1, upperbound)\n",
    "\n",
    "            fit_new_P1 = fitness({'n_neighbors': X_new_P1})\n",
    "            if fit_new_P1 < fit[i]:\n",
    "                X[i] = X_new_P1\n",
    "                fit[i] = fit_new_P1\n",
    "\n",
    "            X_new_P1 = X[i] + (lowerbound + np.random.rand() * (upperbound - lowerbound)) / t\n",
    "            X_new_P1 = np.maximum(X_new_P1, lowerbound)\n",
    "            X_new_P1 = np.minimum(X_new_P1, upperbound)\n",
    "\n",
    "            fit_new_P1 = fitness({'n_neighbors': X_new_P1})\n",
    "            if fit_new_P1 < fit[i]:\n",
    "                X[i] = X_new_P1\n",
    "                fit[i] = fit_new_P1\n",
    "\n",
    "        best_so_far[t-1] = fbest\n",
    "\n",
    "    return fbest, xbest, best_so_far\n",
    "\n",
    "\n",
    "population_size = 10\n",
    "max_iterations = 50\n",
    "lowerbound = n_neighbors_range[0]\n",
    "upperbound = n_neighbors_range[1]\n",
    "\n",
    "Best_score, Best_pos, OOA_curve = OOA(population_size, max_iterations, lowerbound, upperbound, fitness_function)\n",
    "\n",
    "print(\"Best Score:\", Best_score)\n",
    "print(\"Best Number of Neighbors:\", Best_pos)\n"
   ]
  },
  {
   "cell_type": "code",
   "execution_count": null,
   "id": "ccec933e",
   "metadata": {},
   "outputs": [],
   "source": []
  }
 ],
 "metadata": {
  "kernelspec": {
   "display_name": "Python 3 (ipykernel)",
   "language": "python",
   "name": "python3"
  },
  "language_info": {
   "codemirror_mode": {
    "name": "ipython",
    "version": 3
   },
   "file_extension": ".py",
   "mimetype": "text/x-python",
   "name": "python",
   "nbconvert_exporter": "python",
   "pygments_lexer": "ipython3",
   "version": "3.11.4"
  }
 },
 "nbformat": 4,
 "nbformat_minor": 5
}
